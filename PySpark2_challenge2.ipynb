{
 "cells": [
  {
   "cell_type": "code",
   "execution_count": 5,
   "id": "5cc39759-9a1f-4e3c-8d0e-ec18971ea5d1",
   "metadata": {},
   "outputs": [
    {
     "name": "stdout",
     "output_type": "stream",
     "text": [
      "+----------------+--------+-------------------+-----------+\n",
      "|Wheather_Station|    Date|Type_of_Measurement|Temperature|\n",
      "+----------------+--------+-------------------+-----------+\n",
      "|     ITE00100554|18000101|               TMAX|        -75|\n",
      "|     ITE00100554|18000101|               TMIN|       -148|\n",
      "|     GM000010962|18000101|               PRCP|          0|\n",
      "|     EZE00100082|18000101|               TMAX|        -86|\n",
      "|     EZE00100082|18000101|               TMIN|       -135|\n",
      "+----------------+--------+-------------------+-----------+\n",
      "only showing top 5 rows\n",
      "\n"
     ]
    }
   ],
   "source": [
    "from pyspark.sql import SparkSession\n",
    "\n",
    "# Initialisation de la SparkSession\n",
    "spark = SparkSession.builder.appName(\"ChargementWeatherData\").getOrCreate()\n",
    "\n",
    "df = spark.read.option(\"sep\", \";\").option(\"inferSchema\", \"true\").option(\"header\", \"false\").csv(\"/data/1800 weather new.csv\")\n",
    "\n",
    "# Ajout noms des colonnes\n",
    "df = df.withColumnRenamed(\"_c0\", \"Wheather_Station\").withColumnRenamed(\"_c1\", \"Date\").withColumnRenamed(\"_c2\", \"Type_of_Measurement\").withColumnRenamed(\"_c3\", \"Temperature\")\n",
    "\n",
    "df.show(5)"
   ]
  },
  {
   "cell_type": "code",
   "execution_count": null,
   "id": "406de846-d58a-45b3-ba80-0f079481d2ea",
   "metadata": {},
   "outputs": [],
   "source": []
  },
  {
   "cell_type": "markdown",
   "id": "ce37db59-58e6-498f-803a-7b946f2d5859",
   "metadata": {},
   "source": [
    "### Expected Output: The average maximum temperature for the year 1800."
   ]
  },
  {
   "cell_type": "code",
   "execution_count": 11,
   "id": "bfc13429-9a8c-4e81-8eff-9183a5e9573d",
   "metadata": {},
   "outputs": [
    {
     "name": "stdout",
     "output_type": "stream",
     "text": [
      "+---------------+--------+-------------------+-----------+--------------------+\n",
      "|Weather_Station|    Date|Type_of_Measurement|Temperature|Adjusted_Temperature|\n",
      "+---------------+--------+-------------------+-----------+--------------------+\n",
      "|    ITE00100554|18000101|               TMAX|        -75|                -7.5|\n",
      "|    EZE00100082|18000101|               TMAX|        -86|                -8.6|\n",
      "|    ITE00100554|18000102|               TMAX|        -60|                -6.0|\n",
      "|    EZE00100082|18000102|               TMAX|        -44|                -4.4|\n",
      "|    ITE00100554|18000103|               TMAX|        -23|                -2.3|\n",
      "+---------------+--------+-------------------+-----------+--------------------+\n",
      "only showing top 5 rows\n",
      "\n",
      "La température maximale moyenne pour l'année 1800 est : 14.50°C\n"
     ]
    }
   ],
   "source": [
    "from pyspark.sql import SparkSession\n",
    "from pyspark.sql import functions as F\n",
    "\n",
    "spark = SparkSession.builder.appName(\"TMAX\").getOrCreate()\n",
    "\n",
    "def process_max_temperature(file_path):\n",
    "    df = spark.read.option(\"sep\", \";\").option(\"inferSchema\", \"true\").option(\"header\", \"false\").csv(file_path)\n",
    "    \n",
    "    # Ajout noms des colonnes\n",
    "    df = df.withColumnRenamed(\"_c0\", \"Weather_Station\") \\\n",
    "           .withColumnRenamed(\"_c1\", \"Date\") \\\n",
    "           .withColumnRenamed(\"_c2\", \"Type_of_Measurement\") \\\n",
    "           .withColumnRenamed(\"_c3\", \"Temperature\")\n",
    "    \n",
    "    # conserver uniquement les TMAX\n",
    "    tmax_df = df.filter(df[\"Type_of_Measurement\"] == \"TMAX\")\n",
    "\n",
    "    # Ajuster les températures en les divisant par 10\n",
    "    tmax_df = tmax_df.withColumn(\"Adjusted_Temperature\", tmax_df[\"Temperature\"] / 10)\n",
    "\n",
    "    # moyenne des températures maximales\n",
    "    avg_tmax_df = tmax_df.agg(F.avg(\"Adjusted_Temperature\").alias(\"Average_Max_Temperature\")).collect()[0][\"Average_Max_Temperature\"]\n",
    "    \n",
    "    \n",
    "    tmax_df.show(5)\n",
    "\n",
    "    # Afficher la moyenne\n",
    "    print(f\"La température maximale moyenne pour l'année 1800 est : {avg_tmax_df:.2f}°C\")\n",
    "    \n",
    "    return tmax_df\n",
    "\n",
    "\n",
    "\n",
    "df_only_tmax = process_max_temperature(\"/data/1800 weather new.csv\")"
   ]
  },
  {
   "cell_type": "code",
   "execution_count": null,
   "id": "a7e4bc6f-feb0-489b-a5a3-4f230ffe016b",
   "metadata": {},
   "outputs": [],
   "source": []
  },
  {
   "cell_type": "code",
   "execution_count": null,
   "id": "66d1b625-d44d-4d2f-afd8-39122ac37937",
   "metadata": {},
   "outputs": [],
   "source": []
  },
  {
   "cell_type": "code",
   "execution_count": 12,
   "id": "88b09d65-21d0-4b85-a463-3f1f68f4557b",
   "metadata": {},
   "outputs": [],
   "source": [
    "# Arrêt de la SparkSession\n",
    "spark.stop()"
   ]
  },
  {
   "cell_type": "code",
   "execution_count": null,
   "id": "eb46f2d8-e53e-4a6a-9981-5efbbb89144d",
   "metadata": {},
   "outputs": [],
   "source": []
  },
  {
   "cell_type": "code",
   "execution_count": null,
   "id": "2dab3b80-aee3-4eea-a18a-47de3293aa0c",
   "metadata": {},
   "outputs": [],
   "source": []
  },
  {
   "cell_type": "code",
   "execution_count": null,
   "id": "c09f5dd6-ce1f-45f4-8ebf-397e74ad888e",
   "metadata": {},
   "outputs": [],
   "source": []
  },
  {
   "cell_type": "code",
   "execution_count": null,
   "id": "e2effea6-4b29-4c08-9d8c-a96346379010",
   "metadata": {},
   "outputs": [],
   "source": []
  },
  {
   "cell_type": "code",
   "execution_count": null,
   "id": "1425919c-88bb-47ba-94ee-08fed64e454b",
   "metadata": {},
   "outputs": [],
   "source": []
  }
 ],
 "metadata": {
  "kernelspec": {
   "display_name": "Python 3 (ipykernel)",
   "language": "python",
   "name": "python3"
  },
  "language_info": {
   "codemirror_mode": {
    "name": "ipython",
    "version": 3
   },
   "file_extension": ".py",
   "mimetype": "text/x-python",
   "name": "python",
   "nbconvert_exporter": "python",
   "pygments_lexer": "ipython3",
   "version": "3.11.6"
  }
 },
 "nbformat": 4,
 "nbformat_minor": 5
}
