{
 "cells": [
  {
   "cell_type": "markdown",
   "id": "c64aacab-3193-4173-8ae2-88ba6f28ea7a",
   "metadata": {},
   "source": [
    "### 1 - Load the data using the .read() function to create a DataFrame."
   ]
  },
  {
   "cell_type": "code",
   "execution_count": 10,
   "id": "5cc39759-9a1f-4e3c-8d0e-ec18971ea5d1",
   "metadata": {},
   "outputs": [
    {
     "name": "stdout",
     "output_type": "stream",
     "text": [
      "+-------+-------+------+---------+\n",
      "|user_id|item_id|rating|timestamp|\n",
      "+-------+-------+------+---------+\n",
      "|    196|    242|     3|881250949|\n",
      "|    186|    302|     3|891717742|\n",
      "|     22|    377|     1|878887116|\n",
      "|    244|     51|     2|880606923|\n",
      "|    166|    346|     1|886397596|\n",
      "+-------+-------+------+---------+\n",
      "only showing top 5 rows\n",
      "\n"
     ]
    }
   ],
   "source": [
    "from pyspark.sql import SparkSession\n",
    "\n",
    "# Initialisation SparkSession\n",
    "spark = SparkSession.builder.appName(\"DataFrame\").getOrCreate()\n",
    "\n",
    "# read\n",
    "df = spark.read.option(\"sep\", \"\\t\").option(\"inferSchema\", \"true\").option(\"header\", \"false\").csv(\"/data/u.data\")\n",
    "\n",
    "# Ajout noms des colonnes\n",
    "df = df.withColumnRenamed(\"_c0\", \"user_id\").withColumnRenamed(\"_c1\", \"item_id\").withColumnRenamed(\"_c2\", \"rating\").withColumnRenamed(\"_c3\", \"timestamp\")\n",
    "\n",
    "# Affichage des 5 premières lignes\n",
    "df.show(5)\n"
   ]
  },
  {
   "cell_type": "code",
   "execution_count": null,
   "id": "406de846-d58a-45b3-ba80-0f079481d2ea",
   "metadata": {},
   "outputs": [],
   "source": []
  },
  {
   "cell_type": "markdown",
   "id": "679a34e2-ea03-4318-8f9a-782f5ae2275c",
   "metadata": {},
   "source": [
    "### 2 - Filter the DataFrame to include only ratings of 1 or 2."
   ]
  },
  {
   "cell_type": "code",
   "execution_count": 11,
   "id": "a1d22e85-401b-4a8e-a9ac-abecb4a06f2e",
   "metadata": {},
   "outputs": [
    {
     "name": "stdout",
     "output_type": "stream",
     "text": [
      "+-------+-------+------+---------+\n",
      "|user_id|item_id|rating|timestamp|\n",
      "+-------+-------+------+---------+\n",
      "|     22|    377|     1|878887116|\n",
      "|    244|     51|     2|880606923|\n",
      "|    166|    346|     1|886397596|\n",
      "|    115|    265|     2|881171488|\n",
      "|     62|    257|     2|879372434|\n",
      "|    194|    274|     2|879539794|\n",
      "|    234|   1184|     2|892079237|\n",
      "|    291|    118|     2|874833878|\n",
      "|     95|    546|     2|879196566|\n",
      "|    102|    768|     2|883748450|\n",
      "+-------+-------+------+---------+\n",
      "only showing top 10 rows\n",
      "\n"
     ]
    }
   ],
   "source": [
    "filtered_df = df.filter((df[\"rating\"] == 1) | (df[\"rating\"] == 2))\n",
    "filtered_df.show(10)"
   ]
  },
  {
   "cell_type": "code",
   "execution_count": 12,
   "id": "35399cd4-b0e9-4e0b-9bae-12fda67702dc",
   "metadata": {},
   "outputs": [
    {
     "name": "stdout",
     "output_type": "stream",
     "text": [
      "+-------+-------+------+---------+\n",
      "|user_id|item_id|rating|timestamp|\n",
      "+-------+-------+------+---------+\n",
      "|     22|    377|     1|878887116|\n",
      "|    244|     51|     2|880606923|\n",
      "|    166|    346|     1|886397596|\n",
      "|    115|    265|     2|881171488|\n",
      "|     62|    257|     2|879372434|\n",
      "|    194|    274|     2|879539794|\n",
      "|    234|   1184|     2|892079237|\n",
      "|    291|    118|     2|874833878|\n",
      "|     95|    546|     2|879196566|\n",
      "|    102|    768|     2|883748450|\n",
      "+-------+-------+------+---------+\n",
      "only showing top 10 rows\n",
      "\n"
     ]
    }
   ],
   "source": [
    "filtered_df = df.filter((df.rating == 1) | (df.rating == 2))\n",
    "filtered_df.show(10)"
   ]
  },
  {
   "cell_type": "code",
   "execution_count": null,
   "id": "484e27be-271a-4949-a80e-232806e34561",
   "metadata": {},
   "outputs": [],
   "source": []
  },
  {
   "cell_type": "markdown",
   "id": "8df47770-dafd-48ef-bfd1-d67d4bdc954b",
   "metadata": {},
   "source": [
    "### 3 - Aggregate this data to find users with the highest number of low ratings."
   ]
  },
  {
   "cell_type": "raw",
   "id": "f5c43b86-4a20-4c9b-b715-3fea9862dd38",
   "metadata": {},
   "source": [
    "on considère les notes faibles étant 1 et 2 ! --> filtered_df"
   ]
  },
  {
   "cell_type": "code",
   "execution_count": 13,
   "id": "22ee99e7-5377-4a88-a613-54a65192d36d",
   "metadata": {},
   "outputs": [],
   "source": [
    "from pyspark.sql import functions as F"
   ]
  },
  {
   "cell_type": "code",
   "execution_count": 15,
   "id": "63cede4d-1e13-437c-b697-c8d2260119fc",
   "metadata": {},
   "outputs": [],
   "source": [
    "# Agréger pour compter le nb de notes faibles par user\n",
    "low_ratings_users = filtered_df.groupBy(\"user_id\").agg(F.count(\"rating\"))"
   ]
  },
  {
   "cell_type": "code",
   "execution_count": 19,
   "id": "e106676f-4768-4545-a382-3e044c63c6a8",
   "metadata": {},
   "outputs": [
    {
     "name": "stdout",
     "output_type": "stream",
     "text": [
      "+-------+-------------+\n",
      "|user_id|count(rating)|\n",
      "+-------+-------------+\n",
      "|    405|          558|\n",
      "|    181|          380|\n",
      "|     13|          213|\n",
      "|    655|          181|\n",
      "|    774|          160|\n",
      "+-------+-------------+\n",
      "only showing top 5 rows\n",
      "\n"
     ]
    }
   ],
   "source": [
    "# trie décroissant\n",
    "low_ratings_users_desc = low_ratings_users.orderBy(F.desc(F.count(\"rating\")))\n",
    "\n",
    "# afficher les 5 head\n",
    "low_ratings_users_desc.show(5)"
   ]
  },
  {
   "cell_type": "code",
   "execution_count": null,
   "id": "f1a73797-b975-4407-ac42-d33b1c70cc85",
   "metadata": {},
   "outputs": [],
   "source": []
  },
  {
   "cell_type": "markdown",
   "id": "631328e3-204b-4d2f-a25e-0094caf399de",
   "metadata": {},
   "source": [
    "### 4 - Use SQL queries for filtering and aggregating the data."
   ]
  },
  {
   "cell_type": "code",
   "execution_count": 20,
   "id": "6cf2d565-67ce-4d23-ab75-1d1a83042a58",
   "metadata": {},
   "outputs": [],
   "source": [
    "# vue temporaire pour exécuter des requêtes SQL\n",
    "df.createOrReplaceTempView(\"ratings\")"
   ]
  },
  {
   "cell_type": "code",
   "execution_count": 21,
   "id": "f2017342-644e-4e8e-8065-37e2f8d3c0ca",
   "metadata": {},
   "outputs": [
    {
     "name": "stdout",
     "output_type": "stream",
     "text": [
      "+-------+----------------+\n",
      "|user_id|low_rating_count|\n",
      "+-------+----------------+\n",
      "|    405|             558|\n",
      "|    181|             380|\n",
      "|     13|             213|\n",
      "|    655|             181|\n",
      "|    774|             160|\n",
      "+-------+----------------+\n",
      "\n"
     ]
    }
   ],
   "source": [
    "query = \"\"\"\n",
    "    SELECT user_id, COUNT(rating) AS low_rating_count\n",
    "    FROM ratings\n",
    "    WHERE rating IN (1, 2)\n",
    "    GROUP BY user_id\n",
    "    ORDER BY low_rating_count DESC\n",
    "    LIMIT 5\n",
    "\"\"\"\n",
    "\n",
    "result = spark.sql(query)\n",
    "\n",
    "result.show()"
   ]
  },
  {
   "cell_type": "code",
   "execution_count": null,
   "id": "b8e88319-3b36-4345-a226-ff6c49a992fe",
   "metadata": {},
   "outputs": [],
   "source": []
  },
  {
   "cell_type": "markdown",
   "id": "596b220b-07eb-480b-a02d-daad88fdcf1f",
   "metadata": {},
   "source": [
    "### 5 - For an enhanced visual presentation, apply the asDict() method in your print command."
   ]
  },
  {
   "cell_type": "code",
   "execution_count": 22,
   "id": "f789786e-80d5-4ec4-b0a1-ad633a8907f2",
   "metadata": {},
   "outputs": [
    {
     "name": "stdout",
     "output_type": "stream",
     "text": [
      "users ayant le plus grand nombre de notes faibles :\n",
      "{'user_id': 405, 'low_rating_count': 558}\n",
      "{'user_id': 181, 'low_rating_count': 380}\n",
      "{'user_id': 13, 'low_rating_count': 213}\n",
      "{'user_id': 655, 'low_rating_count': 181}\n",
      "{'user_id': 774, 'low_rating_count': 160}\n"
     ]
    }
   ],
   "source": [
    "# Afficher les résultats avec asDict()\n",
    "print(\"users ayant le plus grand nombre de notes faibles :\")\n",
    "for row in result.collect():\n",
    "    print(row.asDict())"
   ]
  },
  {
   "cell_type": "code",
   "execution_count": null,
   "id": "734d27db-2773-48e7-9779-b9db38ee1729",
   "metadata": {},
   "outputs": [],
   "source": []
  },
  {
   "cell_type": "code",
   "execution_count": null,
   "id": "66d1b625-d44d-4d2f-afd8-39122ac37937",
   "metadata": {},
   "outputs": [],
   "source": []
  },
  {
   "cell_type": "code",
   "execution_count": 23,
   "id": "88b09d65-21d0-4b85-a463-3f1f68f4557b",
   "metadata": {},
   "outputs": [],
   "source": [
    "# Arrêt de la SparkSession\n",
    "spark.stop()"
   ]
  },
  {
   "cell_type": "code",
   "execution_count": null,
   "id": "eb46f2d8-e53e-4a6a-9981-5efbbb89144d",
   "metadata": {},
   "outputs": [],
   "source": []
  },
  {
   "cell_type": "code",
   "execution_count": null,
   "id": "2dab3b80-aee3-4eea-a18a-47de3293aa0c",
   "metadata": {},
   "outputs": [],
   "source": []
  },
  {
   "cell_type": "code",
   "execution_count": null,
   "id": "c09f5dd6-ce1f-45f4-8ebf-397e74ad888e",
   "metadata": {},
   "outputs": [],
   "source": []
  },
  {
   "cell_type": "code",
   "execution_count": null,
   "id": "e2effea6-4b29-4c08-9d8c-a96346379010",
   "metadata": {},
   "outputs": [],
   "source": []
  },
  {
   "cell_type": "code",
   "execution_count": null,
   "id": "1425919c-88bb-47ba-94ee-08fed64e454b",
   "metadata": {},
   "outputs": [],
   "source": []
  }
 ],
 "metadata": {
  "kernelspec": {
   "display_name": "Python 3 (ipykernel)",
   "language": "python",
   "name": "python3"
  },
  "language_info": {
   "codemirror_mode": {
    "name": "ipython",
    "version": 3
   },
   "file_extension": ".py",
   "mimetype": "text/x-python",
   "name": "python",
   "nbconvert_exporter": "python",
   "pygments_lexer": "ipython3",
   "version": "3.11.6"
  }
 },
 "nbformat": 4,
 "nbformat_minor": 5
}
