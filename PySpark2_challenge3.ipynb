{
 "cells": [
  {
   "cell_type": "code",
   "execution_count": 1,
   "id": "5cc39759-9a1f-4e3c-8d0e-ec18971ea5d1",
   "metadata": {},
   "outputs": [
    {
     "name": "stdout",
     "output_type": "stream",
     "text": [
      "+----------+------+---+------------------+----------------------+\n",
      "|CustomerID|Gender|Age|Annual Income (k$)|Spending Score (1-100)|\n",
      "+----------+------+---+------------------+----------------------+\n",
      "|         1|  Male| 19|                15|                    39|\n",
      "|         2|  Male| 21|                15|                    81|\n",
      "|         3|Female| 20|                16|                     6|\n",
      "|         4|Female| 23|                16|                    77|\n",
      "|         5|Female| 31|                17|                    40|\n",
      "+----------+------+---+------------------+----------------------+\n",
      "only showing top 5 rows\n",
      "\n"
     ]
    }
   ],
   "source": [
    "from pyspark.sql import SparkSession\n",
    "from pyspark.sql import functions as F\n",
    "\n",
    "spark = SparkSession.builder.appName(\"CustomerBehaviorAnalysis\").getOrCreate()\n",
    "\n",
    "file_path = \"/data/Mall_Customers.csv\"\n",
    "df = spark.read.option(\"header\", \"true\").option(\"inferSchema\", \"true\").csv(file_path)\n",
    "\n",
    "df.show(5)"
   ]
  },
  {
   "cell_type": "code",
   "execution_count": null,
   "id": "b6fc5368-df5c-41f0-b5a3-75f1888f890f",
   "metadata": {},
   "outputs": [],
   "source": []
  },
  {
   "cell_type": "markdown",
   "id": "989990f8-8a55-4639-9e88-5fdf4408782c",
   "metadata": {},
   "source": [
    "### 1 - revenu moyen par âge, trié par ordre décroissant"
   ]
  },
  {
   "cell_type": "code",
   "execution_count": 2,
   "id": "561c3be0-9841-424a-8a33-c7d37349213f",
   "metadata": {},
   "outputs": [
    {
     "name": "stdout",
     "output_type": "stream",
     "text": [
      "+---+--------------+\n",
      "|Age|Average_Income|\n",
      "+---+--------------+\n",
      "| 41|         101.0|\n",
      "| 32|         87.18|\n",
      "| 28|         85.25|\n",
      "| 36|          81.0|\n",
      "| 33|         80.33|\n",
      "| 34|          79.0|\n",
      "| 56|          79.0|\n",
      "| 30|         76.14|\n",
      "| 44|          75.5|\n",
      "| 38|          74.5|\n",
      "| 39|         72.67|\n",
      "| 47|         70.17|\n",
      "| 45|         69.33|\n",
      "| 43|         65.67|\n",
      "| 59|         65.25|\n",
      "| 37|          65.0|\n",
      "| 57|          64.5|\n",
      "| 29|          63.6|\n",
      "| 27|         63.17|\n",
      "| 66|          63.0|\n",
      "+---+--------------+\n",
      "only showing top 20 rows\n",
      "\n"
     ]
    }
   ],
   "source": [
    "income_per_age_average = df.groupBy(\"Age\") \\\n",
    "    .agg(F.round(F.avg(\"Annual Income (k$)\"),2).alias(\"Average_Income\")) \\\n",
    "    .sort(F.desc(\"Average_Income\"))\n",
    "\n",
    "income_per_age_average.show()"
   ]
  },
  {
   "cell_type": "code",
   "execution_count": null,
   "id": "e852a136-e004-4cdd-ab08-9136796a14e4",
   "metadata": {},
   "outputs": [],
   "source": []
  },
  {
   "cell_type": "markdown",
   "id": "a20500da-88b2-43f4-8879-8bcc8f358ee4",
   "metadata": {},
   "source": [
    "### 2 - Score de dépenses moyen pour les clients de moins de 25 ans"
   ]
  },
  {
   "cell_type": "code",
   "execution_count": 3,
   "id": "ac756b8d-a2d8-4d03-ad80-f7a12f51a414",
   "metadata": {},
   "outputs": [
    {
     "name": "stdout",
     "output_type": "stream",
     "text": [
      "+---------------------------+\n",
      "|avg_spending_score_under_25|\n",
      "+---------------------------+\n",
      "|                      56.26|\n",
      "+---------------------------+\n",
      "\n"
     ]
    }
   ],
   "source": [
    "youth_spending_score = df.filter(df.Age < 25) \\\n",
    "    .agg(F.round(F.avg(\"Spending Score (1-100)\"),2).alias(\"avg_spending_score_under_25\"))\n",
    "\n",
    "youth_spending_score.show()"
   ]
  },
  {
   "cell_type": "code",
   "execution_count": null,
   "id": "1415f3e7-f17c-49e9-a53c-9a7d51cef76a",
   "metadata": {},
   "outputs": [],
   "source": []
  },
  {
   "cell_type": "markdown",
   "id": "a37d256e-f6ed-453e-8388-29221130f670",
   "metadata": {},
   "source": [
    "### 3 - Analyse par groupe d'âge"
   ]
  },
  {
   "cell_type": "code",
   "execution_count": 6,
   "id": "68cf308e-34b6-4a37-a45f-a27500dbf8ae",
   "metadata": {},
   "outputs": [
    {
     "name": "stdout",
     "output_type": "stream",
     "text": [
      "+----------+------+---+------------------+----------------------+---------+\n",
      "|CustomerID|Gender|Age|Annual Income (k$)|Spending Score (1-100)|Age_Group|\n",
      "+----------+------+---+------------------+----------------------+---------+\n",
      "|         1|  Male| 19|                15|                    39|      -25|\n",
      "|         2|  Male| 21|                15|                    81|      -25|\n",
      "|         3|Female| 20|                16|                     6|      -25|\n",
      "|         4|Female| 23|                16|                    77|      -25|\n",
      "|         5|Female| 31|                17|                    40|    25-39|\n",
      "|         6|Female| 22|                17|                    76|      -25|\n",
      "|         7|Female| 35|                18|                     6|    25-39|\n",
      "|         8|Female| 23|                18|                    94|      -25|\n",
      "|         9|  Male| 64|                19|                     3|      60+|\n",
      "|        10|Female| 30|                19|                    72|    25-39|\n",
      "|        11|  Male| 67|                19|                    14|      60+|\n",
      "|        12|Female| 35|                19|                    99|    25-39|\n",
      "|        13|Female| 58|                20|                    15|    40-59|\n",
      "|        14|Female| 24|                20|                    77|      -25|\n",
      "|        15|  Male| 37|                20|                    13|    25-39|\n",
      "|        16|  Male| 22|                20|                    79|      -25|\n",
      "|        17|Female| 35|                21|                    35|    25-39|\n",
      "|        18|  Male| 20|                21|                    66|      -25|\n",
      "|        19|  Male| 52|                23|                    29|    40-59|\n",
      "|        20|Female| 35|                23|                    98|    25-39|\n",
      "+----------+------+---+------------------+----------------------+---------+\n",
      "only showing top 20 rows\n",
      "\n"
     ]
    }
   ],
   "source": [
    "age_group_df = df.withColumn(\"Age_Group\", \n",
    "    F.when(df[\"Age\"] < 25, \"-25\")\n",
    "    .when((df[\"Age\"] >= 25) & (df[\"Age\"] < 40), \"25-39\")\n",
    "    .when((df[\"Age\"] >= 40) & (df[\"Age\"] < 60), \"40-59\")\n",
    "    .otherwise(\"60+\"))\n",
    "\n",
    "age_group_df.show()"
   ]
  },
  {
   "cell_type": "code",
   "execution_count": 7,
   "id": "4d2d781a-6c99-4336-a46c-aac0aa1dc7ab",
   "metadata": {},
   "outputs": [
    {
     "name": "stdout",
     "output_type": "stream",
     "text": [
      "+---------+--------------------------------+\n",
      "|Age_Group|avg_spending_score_per_age_group|\n",
      "+---------+--------------------------------+\n",
      "|      -25|                           56.26|\n",
      "|    25-39|                           61.48|\n",
      "|    40-59|                           34.86|\n",
      "|      60+|                            43.0|\n",
      "+---------+--------------------------------+\n",
      "\n"
     ]
    }
   ],
   "source": [
    "avg_spending_score_per_age_group = age_group_df.groupBy(\"Age_Group\") \\\n",
    "    .agg(F.round(F.avg(\"Spending Score (1-100)\"),2).alias(\"avg_spending_score_per_age_group\")) \\\n",
    "    .sort(\"Age_Group\")\n",
    "\n",
    "avg_spending_score_per_age_group.show()"
   ]
  },
  {
   "cell_type": "code",
   "execution_count": null,
   "id": "e36118e6-62b5-4410-b96b-ef4451c83897",
   "metadata": {},
   "outputs": [],
   "source": []
  },
  {
   "cell_type": "code",
   "execution_count": null,
   "id": "8a59d157-9684-471c-8777-e09d59c43267",
   "metadata": {},
   "outputs": [],
   "source": []
  },
  {
   "cell_type": "code",
   "execution_count": null,
   "id": "455e64b1-5afe-42cf-91c3-81cff8c8fb93",
   "metadata": {},
   "outputs": [],
   "source": []
  },
  {
   "cell_type": "code",
   "execution_count": 8,
   "id": "88b09d65-21d0-4b85-a463-3f1f68f4557b",
   "metadata": {},
   "outputs": [],
   "source": [
    "# Arrêt de la SparkSession\n",
    "spark.stop()"
   ]
  },
  {
   "cell_type": "code",
   "execution_count": null,
   "id": "eb46f2d8-e53e-4a6a-9981-5efbbb89144d",
   "metadata": {},
   "outputs": [],
   "source": []
  },
  {
   "cell_type": "code",
   "execution_count": null,
   "id": "2dab3b80-aee3-4eea-a18a-47de3293aa0c",
   "metadata": {},
   "outputs": [],
   "source": []
  },
  {
   "cell_type": "code",
   "execution_count": null,
   "id": "c09f5dd6-ce1f-45f4-8ebf-397e74ad888e",
   "metadata": {},
   "outputs": [],
   "source": []
  },
  {
   "cell_type": "code",
   "execution_count": null,
   "id": "e2effea6-4b29-4c08-9d8c-a96346379010",
   "metadata": {},
   "outputs": [],
   "source": []
  },
  {
   "cell_type": "code",
   "execution_count": null,
   "id": "1425919c-88bb-47ba-94ee-08fed64e454b",
   "metadata": {},
   "outputs": [],
   "source": []
  }
 ],
 "metadata": {
  "kernelspec": {
   "display_name": "Python 3 (ipykernel)",
   "language": "python",
   "name": "python3"
  },
  "language_info": {
   "codemirror_mode": {
    "name": "ipython",
    "version": 3
   },
   "file_extension": ".py",
   "mimetype": "text/x-python",
   "name": "python",
   "nbconvert_exporter": "python",
   "pygments_lexer": "ipython3",
   "version": "3.11.6"
  }
 },
 "nbformat": 4,
 "nbformat_minor": 5
}
